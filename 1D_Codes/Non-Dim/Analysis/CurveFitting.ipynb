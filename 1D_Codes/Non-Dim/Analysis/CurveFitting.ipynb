{
 "cells": [
  {
   "cell_type": "code",
   "execution_count": 1,
   "metadata": {},
   "outputs": [
    {
     "name": "stdout",
     "output_type": "stream",
     "text": [
      "/home/boris/Documents/Research/Coding/1D_Codes/Non-Dim/Analysis\n",
      "Length scale L = 1\n",
      "Velocity scale v = 1\n",
      "Time scale T = 1.0\n",
      "Mass scale M = 1\n",
      "\n",
      "Choose a (non-dimensional) box length:\n"
     ]
    },
    {
     "ename": "KeyboardInterrupt",
     "evalue": "Interrupted by user",
     "output_type": "error",
     "traceback": [
      "\u001b[0;31m---------------------------------------------------------------------------\u001b[0m",
      "\u001b[0;31mKeyboardInterrupt\u001b[0m                         Traceback (most recent call last)",
      "\u001b[1;32m/home/boris/Documents/Research/Coding/1D_Codes/Non-Dim/Analysis/CurveFitting.ipynb Cell 1'\u001b[0m in \u001b[0;36m<cell line: 43>\u001b[0;34m()\u001b[0m\n\u001b[1;32m     <a href='vscode-notebook-cell:/home/boris/Documents/Research/Coding/1D_Codes/Non-Dim/Analysis/CurveFitting.ipynb#ch0000000?line=39'>40</a>\u001b[0m \u001b[39mprint\u001b[39m(\u001b[39mf\u001b[39m\u001b[39m\"\u001b[39m\u001b[39mMass scale M = \u001b[39m\u001b[39m{\u001b[39;00mM_s\u001b[39m}\u001b[39;00m\u001b[39m\"\u001b[39m)\n\u001b[1;32m     <a href='vscode-notebook-cell:/home/boris/Documents/Research/Coding/1D_Codes/Non-Dim/Analysis/CurveFitting.ipynb#ch0000000?line=41'>42</a>\u001b[0m \u001b[39m#L, choice = GF.Startup_Choice()\u001b[39;00m\n\u001b[0;32m---> <a href='vscode-notebook-cell:/home/boris/Documents/Research/Coding/1D_Codes/Non-Dim/Analysis/CurveFitting.ipynb#ch0000000?line=42'>43</a>\u001b[0m L, mu, Num_bosons, r, sigma, Num_stars \u001b[39m=\u001b[39m GF\u001b[39m.\u001b[39;49mStartupV2(hbar, L_s, v_s)\n\u001b[1;32m     <a href='vscode-notebook-cell:/home/boris/Documents/Research/Coding/1D_Codes/Non-Dim/Analysis/CurveFitting.ipynb#ch0000000?line=43'>44</a>\u001b[0m m \u001b[39m=\u001b[39m mu\u001b[39m*\u001b[39mM_s\n\u001b[1;32m     <a href='vscode-notebook-cell:/home/boris/Documents/Research/Coding/1D_Codes/Non-Dim/Analysis/CurveFitting.ipynb#ch0000000?line=45'>46</a>\u001b[0m \u001b[39m#Set up Grid\u001b[39;00m\n",
      "File \u001b[0;32m~/Documents/Research/Coding/OneD/GlobalFuncs.py:56\u001b[0m, in \u001b[0;36mStartupV2\u001b[0;34m(hbar, L_scale, v_scale)\u001b[0m\n\u001b[1;32m     54\u001b[0m \u001b[39mprint\u001b[39m(\u001b[39m\"\u001b[39m\u001b[39m\"\u001b[39m)\n\u001b[1;32m     55\u001b[0m \u001b[39mprint\u001b[39m(\u001b[39m\"\u001b[39m\u001b[39mChoose a (non-dimensional) box length:\u001b[39m\u001b[39m\"\u001b[39m)\n\u001b[0;32m---> 56\u001b[0m L \u001b[39m=\u001b[39m \u001b[39mfloat\u001b[39m(\u001b[39minput\u001b[39;49m())\n\u001b[1;32m     57\u001b[0m \u001b[39mprint\u001b[39m(\u001b[39m\"\u001b[39m\u001b[39m\"\u001b[39m)\n\u001b[1;32m     59\u001b[0m \u001b[39mprint\u001b[39m(\u001b[39m\"\u001b[39m\u001b[39mChoose ratio of FDM to Particles\u001b[39m\u001b[39m\"\u001b[39m)\n",
      "File \u001b[0;32m~/.local/lib/python3.10/site-packages/ipykernel/kernelbase.py:1161\u001b[0m, in \u001b[0;36mKernel.raw_input\u001b[0;34m(self, prompt)\u001b[0m\n\u001b[1;32m   1157\u001b[0m \u001b[39mif\u001b[39;00m \u001b[39mnot\u001b[39;00m \u001b[39mself\u001b[39m\u001b[39m.\u001b[39m_allow_stdin:\n\u001b[1;32m   1158\u001b[0m     \u001b[39mraise\u001b[39;00m StdinNotImplementedError(\n\u001b[1;32m   1159\u001b[0m         \u001b[39m\"\u001b[39m\u001b[39mraw_input was called, but this frontend does not support input requests.\u001b[39m\u001b[39m\"\u001b[39m\n\u001b[1;32m   1160\u001b[0m     )\n\u001b[0;32m-> 1161\u001b[0m \u001b[39mreturn\u001b[39;00m \u001b[39mself\u001b[39;49m\u001b[39m.\u001b[39;49m_input_request(\n\u001b[1;32m   1162\u001b[0m     \u001b[39mstr\u001b[39;49m(prompt),\n\u001b[1;32m   1163\u001b[0m     \u001b[39mself\u001b[39;49m\u001b[39m.\u001b[39;49m_parent_ident[\u001b[39m\"\u001b[39;49m\u001b[39mshell\u001b[39;49m\u001b[39m\"\u001b[39;49m],\n\u001b[1;32m   1164\u001b[0m     \u001b[39mself\u001b[39;49m\u001b[39m.\u001b[39;49mget_parent(\u001b[39m\"\u001b[39;49m\u001b[39mshell\u001b[39;49m\u001b[39m\"\u001b[39;49m),\n\u001b[1;32m   1165\u001b[0m     password\u001b[39m=\u001b[39;49m\u001b[39mFalse\u001b[39;49;00m,\n\u001b[1;32m   1166\u001b[0m )\n",
      "File \u001b[0;32m~/.local/lib/python3.10/site-packages/ipykernel/kernelbase.py:1205\u001b[0m, in \u001b[0;36mKernel._input_request\u001b[0;34m(self, prompt, ident, parent, password)\u001b[0m\n\u001b[1;32m   1202\u001b[0m             \u001b[39mbreak\u001b[39;00m\n\u001b[1;32m   1203\u001b[0m \u001b[39mexcept\u001b[39;00m \u001b[39mKeyboardInterrupt\u001b[39;00m:\n\u001b[1;32m   1204\u001b[0m     \u001b[39m# re-raise KeyboardInterrupt, to truncate traceback\u001b[39;00m\n\u001b[0;32m-> 1205\u001b[0m     \u001b[39mraise\u001b[39;00m \u001b[39mKeyboardInterrupt\u001b[39;00m(\u001b[39m\"\u001b[39m\u001b[39mInterrupted by user\u001b[39m\u001b[39m\"\u001b[39m) \u001b[39mfrom\u001b[39;00m \u001b[39mNone\u001b[39m\n\u001b[1;32m   1206\u001b[0m \u001b[39mexcept\u001b[39;00m \u001b[39mException\u001b[39;00m:\n\u001b[1;32m   1207\u001b[0m     \u001b[39mself\u001b[39m\u001b[39m.\u001b[39mlog\u001b[39m.\u001b[39mwarning(\u001b[39m\"\u001b[39m\u001b[39mInvalid Message:\u001b[39m\u001b[39m\"\u001b[39m, exc_info\u001b[39m=\u001b[39m\u001b[39mTrue\u001b[39;00m)\n",
      "\u001b[0;31mKeyboardInterrupt\u001b[0m: Interrupted by user"
     ]
    }
   ],
   "source": [
    "import numpy as np\n",
    "import matplotlib.pyplot as plt\n",
    "import matplotlib.cm as cm\n",
    "from matplotlib.colors import LogNorm, Normalize\n",
    "import os\n",
    "import subprocess\n",
    "import cv2 \n",
    "from PIL import Image \n",
    "\n",
    "#Import My Library\n",
    "My_Package_PATH = \"/home/boris/Documents/Research/Coding\"\n",
    "import sys\n",
    "sys.path.insert(1, My_Package_PATH)\n",
    "import OneD.WaveNonDim as ND\n",
    "import OneD.NBody as NB\n",
    "import OneD.GlobalFuncs as GF\n",
    "\n",
    "#Set up Directory for saving files/images/videos\n",
    "# Will not rename this again\n",
    "dirExtension = \"1D_Codes/Non-Dim/Analysis\"\n",
    "Directory = os.getcwd()#+\"/\"+dirExtension #os.curdir() #\"/home/boris/Documents/Research/Coding/1D codes/Non-Dim\"\n",
    "print(Directory)\n",
    "\n",
    "############################################\n",
    "# SET UP: shared by Wave and N-Body scenarios\n",
    "############################################\n",
    "#Set scales and parameters:\n",
    "L_s = 1 #kpc\n",
    "v_s = 1 #100km/s\n",
    "G = 1\n",
    "hbar = 1\n",
    "\n",
    "print(f\"Length scale L = {L_s}\")\n",
    "print(f\"Velocity scale v = {v_s}\")\n",
    "\n",
    "T = L_s/v_s\n",
    "print(f\"Time scale T = {T}\")\n",
    "\n",
    "M_s = L_s*v_s**2\n",
    "print(f\"Mass scale M = {M_s}\")\n",
    "\n",
    "#L, choice = GF.Startup_Choice()\n",
    "L, mu, Num_bosons, r, sigma, Num_stars = GF.StartupV2(hbar, L_s, v_s)\n",
    "m = mu*M_s\n",
    "\n",
    "#Set up Grid\n",
    "L = L*L_s #new length. Length of the box\n",
    "N = 10**3\n",
    "z = np.linspace(-L/2,L/2,N)\n",
    "dz = z[1]-z[0]\n",
    "\n",
    "################\n",
    "#PROMPT FOR FULL SIMULATION OR SNAPSHOTS\n",
    "print(\"\")\n",
    "print(\"Do you want the full simulation [1] or snapshots [2]? Choose [1/2]\")\n",
    "sim_choice2 = int(input())\n",
    "print(\"\")\n",
    "\n",
    "#For te\n",
    "################\n",
    "\n",
    "# #SET UP FOLDERS:\n",
    "# if sim_choice2 == 1: \n",
    "#     folder_name = f\"FuzzyMass{m}_Images\"\n",
    "#     if Num_bosons == 0:\n",
    "#         folder_name = \"ParticlesOnly_Images\"\n",
    "#     elif Num_stars == 0:\n",
    "#         folder_name = f\"OnlyFuzzyMass{m}_Images\"\n",
    "# elif sim_choice2 == 2:\n",
    "#     folder_name = f\"FuzzyMass{m}_Snapshots\"\n",
    "#     if Num_bosons == 0:\n",
    "#         folder_name = \"ParticlesOnly_Snapshots\"\n",
    "#     elif Num_stars == 0:\n",
    "#         folder_name = f\"OnlyFuzzyMass{m}_Snapshots\"\n",
    "\n",
    "# #print(os.path.exists(dirExtension+\"/\"+folder_name))\n",
    "# if os.path.exists(dirExtension+\"/\"+folder_name) == True:\n",
    "#     for file in os.listdir(Directory+\"/\"+folder_name):\n",
    "#         os.remove(Directory+\"/\"+folder_name+\"/\"+file)\n",
    "#     os.rmdir(Directory+\"/\"+folder_name)    \n",
    "# os.mkdir(Directory+\"/\"+folder_name)\n",
    "\n",
    "#RUN SIMULATION/CALCULATION\n",
    "print(\"Calculating and Plotting...\")\n",
    "folder_name = \"bla\" \n",
    "stars, chi = GF.run_FDM_n_Bodies(sim_choice2, z,L,dz,mu, Num_bosons, r, sigma,Num_stars,v_s,L_s,Directory,folder_name, absolute_PLOT = False)\n",
    "print(\"Calculation and Plotting Done. Now Saving Video...\")\n",
    "\n",
    "np.savetxt(f\"Stars_Pos_m{m}.csv\",[star.x for star in stars], delimiter = \",\")\n",
    "np.savetxt(f\"Stars_Vel_m{m}.csv\",[star.v for star in stars], delimiter = \",\")\n",
    "np.savetxt(f\"Chi_m{m}.csv\", chi)\n"
   ]
  },
  {
   "cell_type": "code",
   "execution_count": 3,
   "metadata": {},
   "outputs": [
    {
     "ename": "NameError",
     "evalue": "name 'stars' is not defined",
     "output_type": "error",
     "traceback": [
      "\u001b[0;31m---------------------------------------------------------------------------\u001b[0m",
      "\u001b[0;31mNameError\u001b[0m                                 Traceback (most recent call last)",
      "\u001b[1;32m/home/boris/Documents/Research/Coding/1D_Codes/Non-Dim/Analysis/CurveFitting.ipynb Cell 2'\u001b[0m in \u001b[0;36m<cell line: 1>\u001b[0;34m()\u001b[0m\n\u001b[0;32m----> <a href='vscode-notebook-cell:/home/boris/Documents/Research/Coding/1D_Codes/Non-Dim/Analysis/CurveFitting.ipynb#ch0000001?line=0'>1</a>\u001b[0m np\u001b[39m.\u001b[39msavetxt(\u001b[39m\"\u001b[39m\u001b[39mStars_Pos.csv\u001b[39m\u001b[39m\"\u001b[39m,[star\u001b[39m.\u001b[39mx \u001b[39mfor\u001b[39;00m star \u001b[39min\u001b[39;00m stars], delimiter \u001b[39m=\u001b[39m \u001b[39m\"\u001b[39m\u001b[39m,\u001b[39m\u001b[39m\"\u001b[39m)\n\u001b[1;32m      <a href='vscode-notebook-cell:/home/boris/Documents/Research/Coding/1D_Codes/Non-Dim/Analysis/CurveFitting.ipynb#ch0000001?line=1'>2</a>\u001b[0m np\u001b[39m.\u001b[39msavetxt(\u001b[39m\"\u001b[39m\u001b[39mStars_Vel.csv\u001b[39m\u001b[39m\"\u001b[39m,[star\u001b[39m.\u001b[39mv \u001b[39mfor\u001b[39;00m star \u001b[39min\u001b[39;00m stars], delimiter \u001b[39m=\u001b[39m \u001b[39m\"\u001b[39m\u001b[39m,\u001b[39m\u001b[39m\"\u001b[39m)\n\u001b[1;32m      <a href='vscode-notebook-cell:/home/boris/Documents/Research/Coding/1D_Codes/Non-Dim/Analysis/CurveFitting.ipynb#ch0000001?line=2'>3</a>\u001b[0m np\u001b[39m.\u001b[39msavetxt(\u001b[39m\"\u001b[39m\u001b[39mChi.csv\u001b[39m\u001b[39m\"\u001b[39m, chi)\n",
      "\u001b[0;31mNameError\u001b[0m: name 'stars' is not defined"
     ]
    }
   ],
   "source": [
    "np.savetxt(\"Stars_Pos.csv\",[star.x for star in stars], delimiter = \",\")\n",
    "np.savetxt(\"Stars_Vel.csv\",[star.v for star in stars], delimiter = \",\")\n",
    "np.savetxt(\"Chi.csv\", chi)"
   ]
  },
  {
   "cell_type": "code",
   "execution_count": 2,
   "metadata": {},
   "outputs": [
    {
     "name": "stdout",
     "output_type": "stream",
     "text": [
      "/home/boris/Documents/Research/Coding/1D_Codes/Non-Dim/Analysis\n"
     ]
    }
   ],
   "source": [
    "import numpy as np\n",
    "import matplotlib.pyplot as plt\n",
    "import matplotlib.cm as cm\n",
    "from matplotlib.colors import LogNorm, Normalize\n",
    "import os\n",
    "import subprocess\n",
    "import cv2 \n",
    "from PIL import Image \n",
    "\n",
    "#Import My Library\n",
    "My_Package_PATH = \"/home/boris/Documents/Research/Coding\"\n",
    "import sys\n",
    "sys.path.insert(1, My_Package_PATH)\n",
    "import OneD.WaveNonDim as ND\n",
    "import OneD.NBody as NB\n",
    "import OneD.GlobalFuncs as GF\n",
    "\n",
    "#Set up Directory for saving files/images/videos\n",
    "# Will not rename this again\n",
    "dirExtension = \"1D_Codes/Non-Dim/Analysis\"\n",
    "Directory = os.getcwd()#+\"/\"+dirExtension #os.curdir() #\"/home/boris/Documents/Research/Coding/1D codes/Non-Dim\"\n",
    "print(Directory)\n",
    "\n",
    "import scipy as sci\n",
    "\n",
    "stars_x = np.loadtxt(\"Stars_Pos.csv\", dtype = float, delimiter=\",\")\n",
    "stars_v = np.loadtxt(\"Stars_Vel.csv\", dtype = float, delimiter=\",\")\n",
    "chi = np.loadtxt(\"Chi.csv\", dtype = complex, delimiter=\",\")"
   ]
  },
  {
   "cell_type": "code",
   "execution_count": 3,
   "metadata": {},
   "outputs": [],
   "source": [
    "import scipy.optimize as opt"
   ]
  },
  {
   "cell_type": "code",
   "execution_count": 4,
   "metadata": {},
   "outputs": [
    {
     "ename": "NameError",
     "evalue": "name 'm' is not defined",
     "output_type": "error",
     "traceback": [
      "\u001b[0;31m---------------------------------------------------------------------------\u001b[0m",
      "\u001b[0;31mNameError\u001b[0m                                 Traceback (most recent call last)",
      "\u001b[1;32m/home/boris/Documents/Research/Coding/1D_Codes/Non-Dim/Analysis/CurveFitting.ipynb Cell 5'\u001b[0m in \u001b[0;36m<cell line: 9>\u001b[0;34m()\u001b[0m\n\u001b[1;32m      <a href='vscode-notebook-cell:/home/boris/Documents/Research/Coding/1D_Codes/Non-Dim/Analysis/CurveFitting.ipynb#ch0000004?line=6'>7</a>\u001b[0m k \u001b[39m=\u001b[39m \u001b[39m2\u001b[39m\u001b[39m*\u001b[39mnp\u001b[39m.\u001b[39mpi\u001b[39m*\u001b[39mnp\u001b[39m.\u001b[39mfft\u001b[39m.\u001b[39mfftfreq(\u001b[39mlen\u001b[39m(z),dz)\n\u001b[1;32m      <a href='vscode-notebook-cell:/home/boris/Documents/Research/Coding/1D_Codes/Non-Dim/Analysis/CurveFitting.ipynb#ch0000004?line=7'>8</a>\u001b[0m hbar \u001b[39m=\u001b[39m \u001b[39m1\u001b[39m\n\u001b[0;32m----> <a href='vscode-notebook-cell:/home/boris/Documents/Research/Coding/1D_Codes/Non-Dim/Analysis/CurveFitting.ipynb#ch0000004?line=8'>9</a>\u001b[0m v \u001b[39m=\u001b[39m k\u001b[39m*\u001b[39m(hbar\u001b[39m/\u001b[39mm)\n\u001b[1;32m     <a href='vscode-notebook-cell:/home/boris/Documents/Research/Coding/1D_Codes/Non-Dim/Analysis/CurveFitting.ipynb#ch0000004?line=9'>10</a>\u001b[0m x_min, x_max \u001b[39m=\u001b[39m np\u001b[39m.\u001b[39mmin(z), np\u001b[39m.\u001b[39mmax(z)\n\u001b[1;32m     <a href='vscode-notebook-cell:/home/boris/Documents/Research/Coding/1D_Codes/Non-Dim/Analysis/CurveFitting.ipynb#ch0000004?line=10'>11</a>\u001b[0m v_min, v_max \u001b[39m=\u001b[39m np\u001b[39m.\u001b[39mmin(v), np\u001b[39m.\u001b[39mmax(v)\n",
      "\u001b[0;31mNameError\u001b[0m: name 'm' is not defined"
     ]
    }
   ],
   "source": [
    "L = 2\n",
    "N = 10**3\n",
    "z = np.linspace(-L/2,L/2,N)\n",
    "dz = z[1]-z[0]\n",
    "\n",
    "#rescale wavenumber k to velocity v:\n",
    "k = 2*np.pi*np.fft.fftfreq(len(z),dz)\n",
    "hbar = 1\n",
    "v = k*(hbar/m)\n",
    "x_min, x_max = np.min(z), np.max(z)\n",
    "v_min, v_max = np.min(v), np.max(v)\n",
    "\n",
    "\n",
    "#Calculate Particle distribution on Mesh\n",
    "stars = [NB.star(i,sigma,stars_x[i],stars_v[i]) for i in range(len(stars_x))]\n",
    "grid_counts = NB.grid_count(stars,L,z)\n",
    "rho_part = (grid_counts/dz)*sigma \n",
    "#Add the density from the FDM\n",
    "rho_FDM = np.absolute(chi)**2 \n",
    "rho = rho_FDM + rho_part\n",
    "\n",
    "layout = [['upper left', 'upper right', 'far right'],\n",
    "        ['lower left', 'lower right', 'far right']]\n",
    "\n",
    "fig, ax = plt.subplot_mosaic(layout, constrained_layout = True)\n",
    "fig.set_size_inches(20,10)\n",
    "#plt.suptitle(\"Time $\\\\tau = $\" +f\"{round(dtau*i,5)}\".zfill(5), fontsize = 20)    \n",
    "\n",
    "##############################################3\n",
    "#ACCELERATIONS\n",
    "Part_force = -GF.fourier_gradient(GF.fourier_potentialV2(rho_part,L),L)\n",
    "FDM_force = -GF.fourier_gradient(GF.fourier_potentialV2(rho_FDM,L),L)\n",
    "a1 = np.abs([np.max(Part_force),np.min(Part_force)])\n",
    "a2 = np.abs([np.max(FDM_force),np.min(FDM_force)])\n",
    "a_max = np.max(np.append(a1,a2))*2\n",
    "ax['far right'].plot(z, Part_force, label = \"Particle Contribution\")\n",
    "ax['far right'].plot(z, FDM_force, label = \"FDM Contribution\")\n",
    "ax['far right'].set_ylim(-a_max,a_max)\n",
    "ax['far right'].set_title(\"Force contributions\",fontsize = 15)\n",
    "ax['far right'].legend(fontsize = 20)\n",
    "\n",
    "# THE FDM\n",
    "#ax['upper left'].plot(z,chi.real, label = \"Re[$\\\\chi$]\")\n",
    "#ax['upper left'].plot(z,chi.imag, label = \"Im[$\\\\chi$]\")\n",
    "#rho_FDM = np.abs(chi)**2 #already calculated this\n",
    "phi_FDM = GF.fourier_potentialV2(rho_FDM,L)\n",
    "ax['upper left'].plot(z,phi_FDM,label = \"$\\\\Phi_{FDM}$ [Fourier perturbation]\")\n",
    "ax['upper left'].plot(z,rho_FDM,label = \"$\\\\rho_{FDM} = \\\\chi \\\\chi^*$\")\n",
    "#ax['upper left'].set_ylim([-y00_max, y00_max] )\n",
    "ax['upper left'].set_xlabel(\"$z = x/L$\")\n",
    "ax['upper left'].legend(fontsize = 15)\n",
    "ax['upper left'].set_title(\"Non-Dimensional Densities and Potentials\",fontsize = 15)\n",
    "\n",
    "#PHASE SPACE CALCULATION:\n",
    "#Don't calculate if sim_choice1 == '2'\n",
    "eta = 0.05*L*r**0.5 #resolution for Husimi\n",
    "k = 2*np.pi*np.fft.fftfreq(len(z),dz)\n",
    "#rescale wavenumber k to velocity v:\n",
    "hbar = 1\n",
    "v = k*(hbar/m)\n",
    "x_min, x_max = np.min(z), np.max(z)\n",
    "v_min, v_max = np.min(v), np.max(v)\n",
    "F = ND.Husimi_phase(chi,z,dz,L,eta)\n",
    "max_F = np.max(F)/2\n",
    "ax['upper right'].imshow(F,extent = (x_min,x_max,v_min,v_max),cmap = cm.hot, norm = Normalize(0,max_F), aspect = (x_max-x_min)/(2*v_max))\n",
    "ax['upper right'].set_xlim(x_min,x_max)\n",
    "#ax['upper right'].set_ylim(-y01_max,y01_max) #[v_min,v_max])\n",
    "ax['upper right'].set_xlabel(\"$z = x/L$\")\n",
    "ax['upper right'].set_title(\"Phase Space Distributions\", fontsize = 15)\n",
    "    \n",
    "##############################################3\n",
    "# THE PARTICLES\n",
    "#rho_part = (grid_counts/dz)*sigma #already calculated this\n",
    "phi_part = GF.fourier_potentialV2(rho_part,L)\n",
    "ax['lower left'].plot(z,phi_part,label = \"$\\\\Phi_{Particles}$ [Fourier perturbation]\")\n",
    "ax['lower left'].plot(z,rho_part,label = \"$\\\\rho_{Particles}$\")\n",
    "#ax['lower left'].set_xlim(-L/2,L/2)\n",
    "#ax['lower left'].set_ylim(-y10_max,y10_max)\n",
    "ax['lower left'].legend(fontsize = 15)\n",
    "\n",
    "#Plot the Phase Space distribution\n",
    "x_s = np.array([star.x for star in stars])\n",
    "v_s = np.array([star.v for star in stars])\n",
    "ax['lower right'].scatter(x_s,v_s,s = 1,label = \"Particles\")\n",
    "#ax['lower right'].set_ylim(-y11_max,y11_max)\n",
    "ax['lower right'].set_xlim(-L/2,L/2)\n",
    "ax['lower right'].legend(fontsize = 15)\n",
    "\n",
    "#ADDITIONAL:\n",
    "#PLOT STAR CENTER OF MASS\n",
    "if Num_stars != 0:#only calculate if there are stars\n",
    "    centroid_z = 0\n",
    "    for j in range(len(grid_counts)):\n",
    "        centroid_z += z[j]*grid_counts[j]\n",
    "    centroid_z = centroid_z / Num_stars\n",
    "    ax['lower right'].scatter(centroid_z,0,s = 100,c = \"r\",marker = \"o\")\n",
    "plt.show()\n"
   ]
  },
  {
   "cell_type": "code",
   "execution_count": 5,
   "metadata": {},
   "outputs": [
    {
     "ename": "NameError",
     "evalue": "name 'rho' is not defined",
     "output_type": "error",
     "traceback": [
      "\u001b[0;31m---------------------------------------------------------------------------\u001b[0m",
      "\u001b[0;31mNameError\u001b[0m                                 Traceback (most recent call last)",
      "\u001b[1;32m/home/boris/Documents/Research/Coding/1D_Codes/Non-Dim/Analysis/CurveFitting.ipynb Cell 6'\u001b[0m in \u001b[0;36m<cell line: 9>\u001b[0;34m()\u001b[0m\n\u001b[1;32m      <a href='vscode-notebook-cell:/home/boris/Documents/Research/Coding/1D_Codes/Non-Dim/Analysis/CurveFitting.ipynb#ch0000005?line=7'>8</a>\u001b[0m max_bool \u001b[39m=\u001b[39m \u001b[39mFalse\u001b[39;00m\n\u001b[1;32m      <a href='vscode-notebook-cell:/home/boris/Documents/Research/Coding/1D_Codes/Non-Dim/Analysis/CurveFitting.ipynb#ch0000005?line=8'>9</a>\u001b[0m \u001b[39mwhile\u001b[39;00m max_bool \u001b[39m==\u001b[39m \u001b[39mFalse\u001b[39;00m:\n\u001b[0;32m---> <a href='vscode-notebook-cell:/home/boris/Documents/Research/Coding/1D_Codes/Non-Dim/Analysis/CurveFitting.ipynb#ch0000005?line=9'>10</a>\u001b[0m     \u001b[39mfor\u001b[39;00m j \u001b[39min\u001b[39;00m \u001b[39mrange\u001b[39m(\u001b[39mlen\u001b[39m(rho)):\n\u001b[1;32m     <a href='vscode-notebook-cell:/home/boris/Documents/Research/Coding/1D_Codes/Non-Dim/Analysis/CurveFitting.ipynb#ch0000005?line=10'>11</a>\u001b[0m         \u001b[39mif\u001b[39;00m rho[j] \u001b[39m>\u001b[39m rho[i]: \u001b[39m#if you come across an index j that points to a larger value..\u001b[39;00m\n\u001b[1;32m     <a href='vscode-notebook-cell:/home/boris/Documents/Research/Coding/1D_Codes/Non-Dim/Analysis/CurveFitting.ipynb#ch0000005?line=11'>12</a>\u001b[0m             \u001b[39m#then set i equal to j\u001b[39;00m\n\u001b[1;32m     <a href='vscode-notebook-cell:/home/boris/Documents/Research/Coding/1D_Codes/Non-Dim/Analysis/CurveFitting.ipynb#ch0000005?line=12'>13</a>\u001b[0m             i \u001b[39m=\u001b[39m j \n",
      "\u001b[0;31mNameError\u001b[0m: name 'rho' is not defined"
     ]
    }
   ],
   "source": [
    "def fit_func(z,*pars):\n",
    "    C = pars[0]\n",
    "    a = pars[1]\n",
    "    return C/(z*(z+a)**2)\n",
    "\n",
    "#Find center of distribution / max value and index:\n",
    "i = 0\n",
    "max_bool = False\n",
    "while max_bool == False:\n",
    "    for j in range(len(rho)):\n",
    "        if rho[j] > rho[i]: #if you come across an index j that points to a larger value..\n",
    "            #then set i equal to j\n",
    "            i = j \n",
    "            #break\n",
    "        else:\n",
    "            max_index = i\n",
    "            max_bool = True\n",
    "\n",
    "max_rho = rho[max_index]\n",
    "\n",
    "\n",
    "print(max_rho,max_index)\n",
    "i = max_index\n",
    "z = z-z[i]\n",
    "z_left = z[0:i]\n",
    "z_right = z[i:]\n",
    "rho_left = rho[0:i]\n",
    "rho_right = rho[i:]\n",
    "\n",
    "rho_avgd = (rho_left[len(rho_left)-len(rho_right):][::-1]+rho_right)/2\n",
    "rho_avgd = np.append(rho_avgd, rho_left[0:len(rho_left)-len(rho_right)][::-1])\n",
    "fig = plt.figure()\n",
    "plt.plot(z_right,rho_right)\n",
    "plt.plot(z_left,rho_left)\n",
    "plt.plot(z[i],rho[i], \"ro\")\n",
    "plt.show()\n",
    "###################################################\n",
    "\n",
    "fig,ax = plt.subplots(2,1,figsize = (10,15))\n",
    "guess_params = [1,1]\n",
    "popt,pcov = opt.curve_fit(fit_func,-z_left[::-1],rho_avgd,guess_params)\n",
    "fit_rho = fit_func(-z_left[::-1],*popt)\n",
    "ax[0].plot(-z_left[::-1],rho_avgd)\n",
    "ax[0].plot(-z_left[::-1],fit_rho,'r--',label=\"Curve Fit\")\n",
    "ax[0].set_xlim(-0.1,1.5)#L/2)\n",
    "ax[0].text(L/4,max(rho_avgd)*3/4, \"$f(|z|) = \\\\frac{C}{|z|(|z|+a)^2}$\",fontsize = 30)\n",
    "ax[0].text(L/8-0.1,max(rho_avgd)*1/2, f\"[C, a] = [{popt[0]}, {popt[1]}]\",fontsize = 15)\n",
    "ax[0].legend(fontsize = 30)\n",
    "\n",
    "residuals = fit_rho-rho_avgd\n",
    "ax[1].plot(-z_left[::-1],residuals,\"r.--\")\n",
    "ax[1].set_xlim(-0.1,1.5)#L/2)\n",
    "#ax[1].legend()\n",
    "\n",
    "plt.show()\n",
    "\n",
    "#re-try\n",
    "def new_fit_func(z,*pars):\n",
    "    a0,a1,a2 = pars\n",
    "    og = a0/(z*(z+a1)**2)\n",
    "    correction = -a2/z\n",
    "    return og - correction\n",
    "\n",
    "fig,ax = plt.subplots(2,1,figsize = (10,15))\n",
    "guess_params = [1,1,0]\n",
    "popt,pcov = opt.curve_fit(new_fit_func,-z_left[::-1],rho_avgd,guess_params)\n",
    "fit_rho = new_fit_func(-z_left[::-1],*popt)\n",
    "ax[0].plot(-z_left[::-1],rho_avgd)\n",
    "ax[0].plot(-z_left[::-1],fit_rho,'r--',label=\"Curve Fit\")\n",
    "ax[0].set_xlim(-0.1,1.5)#L/2)\n",
    "ax[0].text(L/4,max(rho_avgd)*3/4, \"$f(|z|) = \\\\frac{a0}{|z|(|z|+a1)^2} - a2/|z|$\",fontsize = 30)\n",
    "ax[0].text(L/8-0.1,max(rho_avgd)*1/2, f\"[a0, a1, a2] = {popt}\",fontsize = 15)\n",
    "ax[0].legend(fontsize = 30)\n",
    "\n",
    "residuals = (fit_rho-rho_avgd)#/(fit_rho+rho_avgd)\n",
    "ax[1].plot(-z_left[::-1],residuals,\"r.--\")\n",
    "ax[1].set_xlim(-0.1,1.5)#L/2)\n",
    "#ax[1].legend()\n",
    "\n",
    "plt.show()\n",
    "\n",
    "\n",
    "def new_new_fit_func(z,*pars):\n",
    "    a0,a1,a2 = pars\n",
    "    og = a0/((z**a2) * (z+a1)**2)\n",
    "    #correction = -a2/z\n",
    "    return og #- correction\n",
    "\n",
    "fig,ax = plt.subplots(2,1,figsize = (10,15))\n",
    "guess_params = [1,1,0]\n",
    "popt,pcov = opt.curve_fit(new_new_fit_func,-z_left[::-1],rho_avgd,guess_params)\n",
    "fit_rho = new_new_fit_func(-z_left[::-1],*popt)\n",
    "ax[0].plot(-z_left[::-1],rho_avgd)\n",
    "ax[0].plot(-z_left[::-1],fit_rho,'r--',label=\"Curve Fit\")\n",
    "ax[0].set_xlim(-0.1,1.5)#L/2)\n",
    "ax[0].text(L/4,max(rho_avgd)*3/4, \"$f(|z|) = \\\\frac{a0}{|z|^{a_2 }(|z|+a1)^2}$\",fontsize = 30)\n",
    "ax[0].text(L/8-0.1,max(rho_avgd)*1/2, f\"[a0, a1, a2] = {popt}\",fontsize = 15)\n",
    "ax[0].legend(fontsize = 30)\n",
    "\n",
    "residuals = (fit_rho-rho_avgd)#/(fit_rho+rho_avgd)\n",
    "ax[1].plot(-z_left[::-1],residuals,\"r.--\")\n",
    "ax[1].set_xlim(-0.1,1.5)#L/2)\n",
    "#ax[1].legend()\n",
    "\n",
    "plt.show()\n",
    "\n",
    "###################################################\n",
    "\n",
    "fit_rho = np.append(fit_rho[::-1],fit_rho)\n",
    "fit_phi = GF.fourier_potentialV2(fit_rho,L)\n",
    "fit_z = np.linspace(-L/2,L/2,len(fit_phi))\n",
    "plt.plot(fit_z,fit_phi,label = \"Analytic Model\")\n",
    "rho = np.append(rho_left,rho_right)\n",
    "plt.plot(z,GF.fourier_potentialV2(rho,L), label = \"Exact NBody Potential\")\n",
    "plt.legend()\n",
    "plt.show()\n"
   ]
  },
  {
   "cell_type": "code",
   "execution_count": 6,
   "metadata": {},
   "outputs": [
    {
     "ename": "NameError",
     "evalue": "name 'z_left' is not defined",
     "output_type": "error",
     "traceback": [
      "\u001b[0;31m---------------------------------------------------------------------------\u001b[0m",
      "\u001b[0;31mNameError\u001b[0m                                 Traceback (most recent call last)",
      "\u001b[1;32m/home/boris/Documents/Research/Coding/1D_Codes/Non-Dim/Analysis/CurveFitting.ipynb Cell 7'\u001b[0m in \u001b[0;36m<cell line: 2>\u001b[0;34m()\u001b[0m\n\u001b[1;32m      <a href='vscode-notebook-cell:/home/boris/Documents/Research/Coding/1D_Codes/Non-Dim/Analysis/CurveFitting.ipynb#ch0000006?line=0'>1</a>\u001b[0m fig \u001b[39m=\u001b[39m plt\u001b[39m.\u001b[39mfigure()\n\u001b[0;32m----> <a href='vscode-notebook-cell:/home/boris/Documents/Research/Coding/1D_Codes/Non-Dim/Analysis/CurveFitting.ipynb#ch0000006?line=1'>2</a>\u001b[0m plt\u001b[39m.\u001b[39mplot(np\u001b[39m.\u001b[39mlog(np\u001b[39m.\u001b[39mabs(z_left)),np\u001b[39m.\u001b[39mlog(rho_left), \u001b[39m\"\u001b[39m\u001b[39mr-\u001b[39m\u001b[39m\"\u001b[39m, label \u001b[39m=\u001b[39m \u001b[39m\"\u001b[39m\u001b[39m$z \u001b[39m\u001b[39m\\\\\u001b[39;00m\u001b[39min [-L/2,0]$\u001b[39m\u001b[39m\"\u001b[39m)\n\u001b[1;32m      <a href='vscode-notebook-cell:/home/boris/Documents/Research/Coding/1D_Codes/Non-Dim/Analysis/CurveFitting.ipynb#ch0000006?line=2'>3</a>\u001b[0m plt\u001b[39m.\u001b[39mplot(np\u001b[39m.\u001b[39mlog(np\u001b[39m.\u001b[39mabs(z_right)),np\u001b[39m.\u001b[39mlog(rho_right), \u001b[39m'\u001b[39m\u001b[39mb-\u001b[39m\u001b[39m'\u001b[39m, label \u001b[39m=\u001b[39m \u001b[39m\"\u001b[39m\u001b[39m$z \u001b[39m\u001b[39m\\\\\u001b[39;00m\u001b[39min [0,L/2]$\u001b[39m\u001b[39m\"\u001b[39m)\n\u001b[1;32m      <a href='vscode-notebook-cell:/home/boris/Documents/Research/Coding/1D_Codes/Non-Dim/Analysis/CurveFitting.ipynb#ch0000006?line=3'>4</a>\u001b[0m plt\u001b[39m.\u001b[39mlegend()\n",
      "\u001b[0;31mNameError\u001b[0m: name 'z_left' is not defined"
     ]
    },
    {
     "data": {
      "text/plain": [
       "<Figure size 432x288 with 0 Axes>"
      ]
     },
     "metadata": {},
     "output_type": "display_data"
    }
   ],
   "source": [
    "\n",
    "fig = plt.figure()\n",
    "plt.plot(np.log(np.abs(z_left)),np.log(rho_left), \"r-\", label = \"$z \\\\in [-L/2,0]$\")\n",
    "plt.plot(np.log(np.abs(z_right)),np.log(rho_right), 'b-', label = \"$z \\\\in [0,L/2]$\")\n",
    "plt.legend()\n",
    "plt.xlabel(\"$log|z|$\")\n",
    "plt.ylabel(\"$log|\\\\rho|$\")\n",
    "plt.show()\n",
    "\n",
    "plt.plot(np.log(-z_left[::-1]),np.log(rho_avgd))\n",
    "plt.legend()\n",
    "plt.xlabel(\"$log|z|$\")\n",
    "plt.ylabel(\"$log|\\\\rho|$\")\n",
    "plt.show()\n",
    "\n",
    "\n",
    "\n",
    "#ADDITIONAL:\n",
    "#Calculate potential \n",
    "phi = GF.fourier_potentialV2(rho,L)\n",
    "#Calculate Acceleration Field on Mesh:\n",
    "a_grid = NB.acceleration(phi,L) \n",
    "\n"
   ]
  },
  {
   "cell_type": "code",
   "execution_count": 7,
   "metadata": {},
   "outputs": [
    {
     "name": "stdout",
     "output_type": "stream",
     "text": [
      "0.24124124124124124\n"
     ]
    },
    {
     "data": {
      "image/png": "[encoded data removed]",
      "text/plain": [
       "<Figure size 432x288 with 2 Axes>"
      ]
     },
     "metadata": {
      "needs_background": "light"
     },
     "output_type": "display_data"
    },
    {
     "data": {
      "image/png": "[encoded data removed]",
      "text/plain": [
       "<Figure size 432x288 with 1 Axes>"
      ]
     },
     "metadata": {
      "needs_background": "light"
     },
     "output_type": "display_data"
    }
   ],
   "source": [
    "#hist, xedges, yedges = np.histogram2d(stars_x,stars_v,bins = [50,50])\n",
    "#plt.imshow(hist,extent = (x_min,x_max,v_min,v_max), cmap = cm.hot, aspect = (x_max-x_min)/(v_max-v_min))\n",
    "#plt.show()\n",
    "\n",
    "#Re-center the system\n",
    "z = np.linspace(-L/2,L/2,N)\n",
    "max_index = 620\n",
    "print(z[max_index])\n",
    "stars_x_new = stars_x - z[max_index] #centroid_z\n",
    "\n",
    "nbins = 100\n",
    "hist, xedges, yedges, image = plt.hist2d(stars_x_new, stars_v, \n",
    "                            bins = [nbins,nbins], \n",
    "                            range = [[-L/2, L/2],[np.min(stars_v),np.max(stars_v)]],\n",
    "                            #cmax = 250,\n",
    "                            cmap = cm.hot)\n",
    "plt.colorbar()\n",
    "plt.show()\n",
    "\n",
    "# print(hist)\n",
    "# for i in range(len(hist)):\n",
    "#     for j in range(len(hist)):\n",
    "#         hist[i,j] = int(hist[i,j])\n",
    "# print(hist)\n",
    "\n",
    "def Abel(x_range: tuple, v_range: tuple,f):\n",
    "    # f is a 2d-array. (A 2d histogram)\n",
    "\n",
    "    x_min,x_max = x_range\n",
    "    #v_min,v_max = v_range\n",
    "    \n",
    "    n_rows,n_cols = np.shape(f)\n",
    "\n",
    "    #v_s = np.linspace(v_min,v_max,n_rows)\n",
    "    x_s = np.linspace(x_min,x_max,n_cols)\n",
    "\n",
    "    #dv = v_s[1]-v_s[0]\n",
    "    dx = x_s[1]-x_s[0]\n",
    "\n",
    "    holder = np.array([])\n",
    "    for i in range(n_rows):\n",
    "        #v = v_s[i]\n",
    "        sum = 0\n",
    "        for j in range(n_cols):\n",
    "            #x = dx*j #x_s[j]. Note we only add up from x=0 to x->inf\n",
    "            sum+= f[i][j]*dx\n",
    "            \n",
    "            # r = np.sqrt(v**2+x**2)\n",
    "            # dr = np.sqrt(dv**2+dx**2)\n",
    "            #\n",
    "            # term1 = f[i][j]*r\n",
    "            # term2 = np.sqrt(r**2-v**2)\n",
    "            # sum+=dr*term1/term2\n",
    "        holder = np.append(holder,sum)#2*sum)\n",
    "    return holder\n",
    "\n",
    "np.savetxt(\"hist.csv\",hist,fmt ='%i',delimiter = \",\")\n",
    "hist = np.loadtxt(\"hist.csv\",dtype = int,delimiter = ',')\n",
    "v_min,v_max = np.min(stars_v),np.max(stars_v)\n",
    "abel_transform = Abel((-L/2,L/2),(v_min,v_max),hist)\n",
    "\n",
    "#print(abel_transform)\n",
    "v_array = np.linspace(v_min,v_max,len(abel_transform))\n",
    "plt.plot(v_array,abel_transform,'b--',marker = '.')\n",
    "plt.show() \n"
   ]
  },
  {
   "cell_type": "code",
   "execution_count": 11,
   "metadata": {},
   "outputs": [
    {
     "name": "stdout",
     "output_type": "stream",
     "text": [
      "z = 1.5\n",
      "div = 1.0, remainder = 0.5\n",
      "new z = -0.5\n",
      " \n"
     ]
    },
    {
     "data": {
      "image/png": "[encoded data removed]",
      "text/plain": [
       "<Figure size 432x288 with 1 Axes>"
      ]
     },
     "metadata": {
      "needs_background": "light"
     },
     "output_type": "display_data"
    },
    {
     "name": "stdout",
     "output_type": "stream",
     "text": [
      "z = -0.4\n",
      "div = -1.0, remainder = 0.6\n",
      "new z = -0.4\n",
      " \n"
     ]
    },
    {
     "data": {
      "image/png": "[encoded data removed]",
      "text/plain": [
       "<Figure size 432x288 with 1 Axes>"
      ]
     },
     "metadata": {
      "needs_background": "light"
     },
     "output_type": "display_data"
    },
    {
     "name": "stdout",
     "output_type": "stream",
     "text": [
      "z = -0.30000000000000004\n",
      "div = -1.0, remainder = 0.7\n",
      "new z = -0.30000000000000004\n",
      " \n"
     ]
    },
    {
     "data": {
      "image/png": "[encoded data removed]",
      "text/plain": [
       "<Figure size 432x288 with 1 Axes>"
      ]
     },
     "metadata": {
      "needs_background": "light"
     },
     "output_type": "display_data"
    },
    {
     "name": "stdout",
     "output_type": "stream",
     "text": [
      "z = -0.20000000000000004\n",
      "div = -1.0, remainder = 0.7999999999999999\n",
      "new z = -0.20000000000000007\n",
      " \n"
     ]
    },
    {
     "data": {
      "image/png": "[encoded data removed]",
      "text/plain": [
       "<Figure size 432x288 with 1 Axes>"
      ]
     },
     "metadata": {
      "needs_background": "light"
     },
     "output_type": "display_data"
    },
    {
     "name": "stdout",
     "output_type": "stream",
     "text": [
      "z = -0.10000000000000006\n",
      "div = -1.0, remainder = 0.8999999999999999\n",
      "new z = -0.10000000000000009\n",
      " \n"
     ]
    },
    {
     "data": {
      "image/png": "[encoded data removed]",
      "text/plain": [
       "<Figure size 432x288 with 1 Axes>"
      ]
     },
     "metadata": {
      "needs_background": "light"
     },
     "output_type": "display_data"
    },
    {
     "name": "stdout",
     "output_type": "stream",
     "text": [
      "z = -8.326672684688674e-17\n",
      "div = -1.0, remainder = 0.9999999999999999\n",
      "new z = -1.1102230246251565e-16\n",
      " \n"
     ]
    },
    {
     "data": {
      "image/png": "[encoded data removed]",
      "text/plain": [
       "<Figure size 432x288 with 1 Axes>"
      ]
     },
     "metadata": {
      "needs_background": "light"
     },
     "output_type": "display_data"
    },
    {
     "name": "stdout",
     "output_type": "stream",
     "text": [
      "z = 0.0999999999999999\n",
      "div = 0.0, remainder = 0.0999999999999999\n",
      "new z = 0.0999999999999999\n",
      " \n"
     ]
    },
    {
     "data": {
      "image/png": "[encoded data removed]",
      "text/plain": [
       "<Figure size 432x288 with 1 Axes>"
      ]
     },
     "metadata": {
      "needs_background": "light"
     },
     "output_type": "display_data"
    },
    {
     "name": "stdout",
     "output_type": "stream",
     "text": [
      "z = 0.1999999999999999\n",
      "div = 0.0, remainder = 0.1999999999999999\n",
      "new z = 0.1999999999999999\n",
      " \n"
     ]
    },
    {
     "data": {
      "image/png": "[encoded data removed]",
      "text/plain": [
       "<Figure size 432x288 with 1 Axes>"
      ]
     },
     "metadata": {
      "needs_background": "light"
     },
     "output_type": "display_data"
    },
    {
     "name": "stdout",
     "output_type": "stream",
     "text": [
      "z = 0.29999999999999993\n",
      "div = 0.0, remainder = 0.29999999999999993\n",
      "new z = 0.29999999999999993\n",
      " \n"
     ]
    },
    {
     "data": {
      "image/png": "[encoded data removed]",
      "text/plain": [
       "<Figure size 432x288 with 1 Axes>"
      ]
     },
     "metadata": {
      "needs_background": "light"
     },
     "output_type": "display_data"
    },
    {
     "name": "stdout",
     "output_type": "stream",
     "text": [
      "z = 0.3999999999999999\n",
      "div = 0.0, remainder = 0.3999999999999999\n",
      "new z = 0.3999999999999999\n",
      " \n"
     ]
    },
    {
     "data": {
      "image/png": "[encoded data removed]",
      "text/plain": [
       "<Figure size 432x288 with 1 Axes>"
      ]
     },
     "metadata": {
      "needs_background": "light"
     },
     "output_type": "display_data"
    },
    {
     "name": "stdout",
     "output_type": "stream",
     "text": [
      "z = 0.4999999999999999\n",
      "div = 0.0, remainder = 0.4999999999999999\n",
      "new z = 0.4999999999999999\n",
      " \n"
     ]
    },
    {
     "data": {
      "image/png": "[encoded data removed]",
      "text/plain": [
       "<Figure size 432x288 with 1 Axes>"
      ]
     },
     "metadata": {
      "needs_background": "light"
     },
     "output_type": "display_data"
    },
    {
     "name": "stdout",
     "output_type": "stream",
     "text": [
      "z = 0.5999999999999999\n",
      "div = 0.0, remainder = 0.5999999999999999\n",
      "new z = 0.5999999999999999\n",
      " \n"
     ]
    },
    {
     "data": {
      "image/png": "[encoded data removed]",
      "text/plain": [
       "<Figure size 432x288 with 1 Axes>"
      ]
     },
     "metadata": {
      "needs_background": "light"
     },
     "output_type": "display_data"
    },
    {
     "name": "stdout",
     "output_type": "stream",
     "text": [
      "z = 0.6999999999999998\n",
      "div = 0.0, remainder = 0.6999999999999998\n",
      "new z = 0.6999999999999998\n",
      " \n"
     ]
    },
    {
     "data": {
      "image/png": "[encoded data removed]",
      "text/plain": [
       "<Figure size 432x288 with 1 Axes>"
      ]
     },
     "metadata": {
      "needs_background": "light"
     },
     "output_type": "display_data"
    },
    {
     "name": "stdout",
     "output_type": "stream",
     "text": [
      "z = 0.7999999999999998\n",
      "div = 0.0, remainder = 0.7999999999999998\n",
      "new z = 0.7999999999999998\n",
      " \n"
     ]
    },
    {
     "data": {
      "image/png": "[encoded data removed]",
      "text/plain": [
       "<Figure size 432x288 with 1 Axes>"
      ]
     },
     "metadata": {
      "needs_background": "light"
     },
     "output_type": "display_data"
    },
    {
     "name": "stdout",
     "output_type": "stream",
     "text": [
      "z = 0.8999999999999998\n",
      "div = 0.0, remainder = 0.8999999999999998\n",
      "new z = 0.8999999999999998\n",
      " \n"
     ]
    },
    {
     "data": {
      "image/png": "[encoded data removed]",
      "text/plain": [
       "<Figure size 432x288 with 1 Axes>"
      ]
     },
     "metadata": {
      "needs_background": "light"
     },
     "output_type": "display_data"
    },
    {
     "name": "stdout",
     "output_type": "stream",
     "text": [
      "z = 0.9999999999999998\n",
      "div = 0.0, remainder = 0.9999999999999998\n",
      "new z = 0.9999999999999998\n",
      " \n"
     ]
    },
    {
     "data": {
      "image/png": "[encoded data removed]",
      "text/plain": [
       "<Figure size 432x288 with 1 Axes>"
      ]
     },
     "metadata": {
      "needs_background": "light"
     },
     "output_type": "display_data"
    },
    {
     "name": "stdout",
     "output_type": "stream",
     "text": [
      "z = 1.0999999999999999\n",
      "div = 1.0, remainder = 0.09999999999999987\n",
      "new z = -0.9000000000000001\n",
      " \n"
     ]
    },
    {
     "data": {
      "image/png": "[encoded data removed]",
      "text/plain": [
       "<Figure size 432x288 with 1 Axes>"
      ]
     },
     "metadata": {
      "needs_background": "light"
     },
     "output_type": "display_data"
    },
    {
     "name": "stdout",
     "output_type": "stream",
     "text": [
      "z = -0.8000000000000002\n",
      "div = -1.0, remainder = 0.19999999999999984\n",
      "new z = -0.8000000000000002\n",
      " \n"
     ]
    },
    {
     "data": {
      "image/png": "[encoded data removed]",
      "text/plain": [
       "<Figure size 432x288 with 1 Axes>"
      ]
     },
     "metadata": {
      "needs_background": "light"
     },
     "output_type": "display_data"
    },
    {
     "name": "stdout",
     "output_type": "stream",
     "text": [
      "z = -0.7000000000000002\n",
      "div = -1.0, remainder = 0.2999999999999998\n",
      "new z = -0.7000000000000002\n",
      " \n"
     ]
    },
    {
     "data": {
      "image/png": "[encoded data removed]",
      "text/plain": [
       "<Figure size 432x288 with 1 Axes>"
      ]
     },
     "metadata": {
      "needs_background": "light"
     },
     "output_type": "display_data"
    },
    {
     "name": "stdout",
     "output_type": "stream",
     "text": [
      "z = -0.6000000000000002\n",
      "div = -1.0, remainder = 0.3999999999999998\n",
      "new z = -0.6000000000000002\n",
      " \n"
     ]
    },
    {
     "data": {
      "image/png": "[encoded data removed]",
      "text/plain": [
       "<Figure size 432x288 with 1 Axes>"
      ]
     },
     "metadata": {
      "needs_background": "light"
     },
     "output_type": "display_data"
    }
   ],
   "source": [
    "#Import My Library\n",
    "My_Package_PATH = \"/home/boris/Documents/Research/Coding\"\n",
    "import sys\n",
    "sys.path.insert(1, My_Package_PATH)\n",
    "import OneD.WaveNonDim as ND\n",
    "import OneD.NBody as NB\n",
    "\n",
    "L = 2\n",
    "star = NB.star(1,1,1.5,1)\n",
    "dt = 0.1\n",
    "t_stop = 2\n",
    "time = 0\n",
    "while time < t_stop:\n",
    "    star.reposition(L)\n",
    "    \n",
    "    plt.scatter(star.x,0)\n",
    "    plt.xlim(-L/2,L/2)\n",
    "    plt.show()\n",
    "    star.x += dt*star.v\n",
    "\n",
    "    time += dt\n"
   ]
  },
  {
   "cell_type": "code",
   "execution_count": null,
   "metadata": {},
   "outputs": [],
   "source": []
  }
 ],
 "metadata": {
  "kernelspec": {
   "display_name": "Python 3.10.4 64-bit",
   "language": "python",
   "name": "python3"
  },
  "language_info": {
   "codemirror_mode": {
    "name": "ipython",
    "version": 3
   },
   "file_extension": ".py",
   "mimetype": "text/x-python",
   "name": "python",
   "nbconvert_exporter": "python",
   "pygments_lexer": "ipython3",
   "version": "3.10.4"
  },
  "orig_nbformat": 4,
  "vscode": {
   "interpreter": {
    "hash": "916dbcbb3f70747c44a77c7bcd40155683ae19c65e1c03b4aa3499c5328201f1"
   }
  }
 },
 "nbformat": 4,
 "nbformat_minor": 2
}
