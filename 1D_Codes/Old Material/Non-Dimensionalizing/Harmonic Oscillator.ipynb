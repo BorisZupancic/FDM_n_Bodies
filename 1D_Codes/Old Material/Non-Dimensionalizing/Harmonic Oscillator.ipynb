{
 "cells": [
  {
   "cell_type": "code",
   "execution_count": 1,
   "metadata": {},
   "outputs": [],
   "source": [
    "import numpy as np\n",
    "import matplotlib.pyplot as plt\n",
    "import matplotlib.cm as cm\n",
    "from matplotlib.colors import LogNorm, Normalize\n",
    "import os\n",
    "import cv2 \n",
    "from PIL import Image \n",
    "    \n",
    "#Import My Library\n",
    "My_Package_PATH = \"/home/boris/Documents/Research/Coding\"\n",
    "import sys\n",
    "# insert at 1, 0 is the script path (or '' in REPL)\n",
    "sys.path.insert(1, My_Package_PATH)\n",
    "#from OneD import *\n",
    "\n",
    "import OneD.Waves.NonDim as ND\n",
    "import OneD.NBody.NBody as NB\n",
    "import OneD.Global.GlobalFuncs as GF\n",
    "\n",
    "#Set up Directory for saving files/images/videos\n",
    "# Will not rename this again\n",
    "\n",
    "Directory = \"/home/boris/Documents/Research/Coding/1D codes/Non-Dim\""
   ]
  },
  {
   "cell_type": "markdown",
   "metadata": {},
   "source": [
    "## Non-Dimensionalized Harmonic Oscillator\n",
    "Schrodinger Eq.:\n",
    "$$i\\hbar \\frac{\\partial \\psi}{\\partial t} = -\\frac{\\hbar^2}{2m}\\frac{\\partial^2 \\psi}{\\partial x^2}+V\\psi$$\n",
    "$V = \\frac{1}{2}m\\omega^2 x^2$ so:\n",
    "$$i\\hbar \\frac{\\partial \\psi}{\\partial t} = -\\frac{\\hbar^2}{2m}\\frac{\\partial^2 \\psi}{\\partial x^2}+\\frac{1}{2}m\\omega^2 x^2\\psi$$\n",
    "\n",
    "Fix length scale $L = 1 (\\text{kpc or whatever})$, fix velocity scale $v=1 (\\text{km/s or whatever})$. \n",
    "$$\\Rightarrow T = \\frac{L}{v} \\Rightarrow t\\equiv T\\tau$$\n",
    "Also:\n",
    "$$x\\equiv L z$$\n",
    "\n",
    "Schrodinger Eq. becomes:\n",
    "$$i \\frac{\\partial \\psi}{\\partial \\tau} = -\\frac{T\\hbar}{2mL^2}\\frac{\\partial^2 \\psi}{\\partial z^2}+\\frac{TV}{\\hbar}\\psi$$ \n",
    "\n",
    "Define\n",
    "$$r \\equiv \\frac{T\\hbar}{2mL^2} = \\frac{\\hbar}{2mvL} = \\frac{1}{4\\pi}\\frac{\\lambda_\\text{deB}}{L}$$\n",
    "\n",
    "and define a frequency scale $\\omega = \\frac{2f}{T}$ so:\n",
    "$$ \\frac{TV}{\\hbar} = \\frac{1}{2}\\frac{Tm\\omega^2 x^2}{\\hbar}=\\frac{1}{2}\\frac{TmT^{-2}\\cdot 4f^2 L^2 z^2}{\\hbar} \n",
    "= \\frac{1}{2}\\frac{4mvL}{\\hbar}f^2z^2 = \\frac{1}{r}f^2z^2$$\n",
    "\n",
    "The SE becomes:\n",
    "$$i \\frac{\\partial \\psi}{\\partial \\tau} = -r\\frac{\\partial^2 \\psi}{\\partial z^2}+\\frac{1}{r}f^2z^2\\psi$$ \n"
   ]
  },
  {
   "cell_type": "code",
   "execution_count": 2,
   "metadata": {},
   "outputs": [],
   "source": [
    "############################################\n",
    "# Set up shared by Wave and N-Body scenarios\n",
    "############################################\n",
    "\n",
    "Num_particles = 100\n",
    "\n",
    "#Set scales and parameters:\n",
    "L = 20\n",
    "v = 1 \n",
    "hbar = 1\n",
    "m = 1 #mass per particle\n",
    "omega = 2*10**(-2)\n",
    "\n",
    "T = L/v\n",
    "\n",
    "r = ND.r(hbar,m,v,L)\n",
    "f = ND.f(omega,v,L)\n",
    "\n",
    "#Set up Grid\n",
    "N = 10**3\n",
    "z = np.linspace(-L/2,L/2,N)\n",
    "dz = z[1]-z[0]\n"
   ]
  },
  {
   "cell_type": "code",
   "execution_count": 3,
   "metadata": {},
   "outputs": [],
   "source": [
    "\n",
    "#Set a fixed potential\n",
    "def NonDim_phi(z,f):\n",
    "    return f**2*z**2\n",
    "phi = NonDim_phi(z,f) \n",
    "\n",
    "#Set an initial wavefunction\n",
    "b=-L/4\n",
    "std=1\n",
    "rho = m*GF.gauss(z,b,std)*Num_particles\n",
    "psi = np.sqrt(rho/m) #assuming psi_initial to be real valued and non-negative\n",
    "\n",
    "#Calculate initial Density perturbation\n",
    "rho_avg = np.mean(rho)\n",
    "P = rho-rho_avg\n",
    "\n",
    "#storage space, with initial functions\n",
    "P_s = np.array([P]) #initial density perturbation\n",
    "psi_s = np.array([psi]) #initial wavefunction\n",
    "phi_s = np.array([phi]) #initial potential [perturbation]\n",
    "\n",
    "dtau = 0.1\n",
    "tau_stop = 20\n",
    "time = 0\n",
    "while time <= tau_stop:\n",
    "    ######################################\n",
    "    #Evolve system forward by one time-step\n",
    "    psi,phi,P = ND.time_evolve_FixedPhi(psi,phi,r,dz,dtau,m)\n",
    "    ######################################\n",
    "\n",
    "    #Append/store new arrays\n",
    "    psi_s = np.append(psi_s,[psi], axis = 0)\n",
    "    P_s = np.append(P_s, [P], axis = 0)\n",
    "    phi_s = np.append(phi_s,[phi], axis = 0)\n",
    "\n",
    "    time += dtau #forward on the clock"
   ]
  },
  {
   "cell_type": "code",
   "execution_count": null,
   "metadata": {},
   "outputs": [],
   "source": [
    "#Plot the figures\n",
    "folder_name = \"HO_Images\"\n",
    "GF.plot_save_waves(z,psi_s,phi_s,P_s,dtau,Num_particles,Directory,folder_name)\n",
    "print(\"Plotting Done.\")"
   ]
  },
  {
   "cell_type": "code",
   "execution_count": null,
   "metadata": {},
   "outputs": [],
   "source": [
    "#Turn figures into a video\n",
    "fourcc = cv2.VideoWriter_fourcc(*'mp4v')\n",
    "video_name = \"ToyModel_HarmonicOscillator_video.mp4\"\n",
    "GF.animate(fourcc,Directory,folder_name,video_name,dtau)\n"
   ]
  },
  {
   "cell_type": "code",
   "execution_count": null,
   "metadata": {},
   "outputs": [],
   "source": [
    "# Open the video\n",
    "! xdg-open \"ToyModel_HarmonicOscillator_video.mp4\""
   ]
  },
  {
   "cell_type": "code",
   "execution_count": null,
   "metadata": {},
   "outputs": [],
   "source": [
    "#Testing phase representation\n",
    "from matplotlib.colors import Normalize\n",
    "\n",
    "k = 2*np.pi*np.fft.fftfreq(len(z),dz)\n",
    "k = k / L #non-dimensionalize\n",
    "dk = k[1]-k[0]\n",
    "\n",
    "#rescale wavenumber k to velocity v:\n",
    "v = k*(hbar/m)\n",
    "\n",
    "x_min, x_max = np.min(z), np.max(z)\n",
    "v_min, v_max = np.min(v), np.max(v)\n",
    "\n",
    "for i in range(0,200,25):\n",
    "    F = ND.Husimi_phase(psi_s[i],z,dz,L)\n",
    "    print(\"Normalization Check: \",np.sum(dz*dk*F))\n",
    "    #fig,ax = plt.subplots(1,1)\n",
    "    plt.figure(figsize = (10,5))\n",
    "    plt.imshow(F,extent = (x_min,x_max,v_min,v_max),cmap = cm.hot, aspect = x_max/v_max)\n",
    "    plt.xlim([x_min,x_max])\n",
    "    plt.ylim([v_min,v_max])\n",
    "    plt.colorbar()\n",
    "    plt.show()"
   ]
  },
  {
   "cell_type": "code",
   "execution_count": null,
   "metadata": {},
   "outputs": [],
   "source": [
    "max_F = 2\n",
    "frame_spacing = 1\n",
    "folder_name = \"HO_Phase_Images\"\n",
    "ND.generate_phase_plots(psi_s,z,dz,L,m,hbar,max_F,frame_spacing,Directory,folder_name)"
   ]
  },
  {
   "cell_type": "code",
   "execution_count": null,
   "metadata": {},
   "outputs": [],
   "source": [
    "fourcc = cv2.VideoWriter_fourcc(*'mp4v')\n",
    "video_name = \"HO_Phase_video.mp4\"\n",
    "GF.animate(fourcc,Directory,folder_name,video_name,dtau)\n"
   ]
  },
  {
   "cell_type": "code",
   "execution_count": null,
   "metadata": {},
   "outputs": [],
   "source": [
    "\n",
    "! xdg-open \"HO_Phase_video.mp4\""
   ]
  },
  {
   "cell_type": "markdown",
   "metadata": {},
   "source": [
    "### Non-dimensionalized Kick-Drift-Kick\n",
    "\n",
    "In the general non-dimensionalized case:\n",
    "$$i\\frac{\\partial \\psi}{\\partial \\tau} = -r \\frac{\\partial ^2 \\psi}{\\partial z^2} + \\frac{Tm\\Phi}{\\hbar}\\psi$$\n",
    "Kick:\n",
    "$$\\exp\\left( {-i\\frac{Lm}{v\\hbar}\\frac{\\Delta \\tau}{2}\\Phi(z,\\tau+\\Delta \\tau)} \\right)$$\n",
    "\n",
    "Drift:\n",
    "$$ \\mathcal{F^{-1}} \\exp\\left( -ir \\Delta \\tau k^2 \\right)\\mathcal{F}$$"
   ]
  },
  {
   "cell_type": "markdown",
   "metadata": {},
   "source": [
    "## N-body Harmonic Oscillator\n",
    "#### Non-dimensionalized\n",
    "\n",
    "Considering the above Length and Velocity scales $L$,$v$, as well as parameters $r$ and $f$, the SHO equation of motion (for a point particle) becomes:\n",
    "$$\n",
    "\\frac{d^2 z}{d \\tau^2} = -4f^2z\n",
    "$$"
   ]
  },
  {
   "cell_type": "code",
   "execution_count": 4,
   "metadata": {},
   "outputs": [],
   "source": [
    "Num_stars = Num_particles\n",
    "m = 1 #mass per star\n",
    "M = m*Num_stars #total mass\n",
    "\n",
    "#T = L/v\n",
    "r_ = ND.r(hbar,m,v,L)\n",
    "f_ = ND.f(omega,v,L)\n",
    "\n",
    "#Set a fixed potential\n",
    "def NonDim_phi(z,m,omega):\n",
    "    return 0.5*m*omega**2*z**2\n",
    "phi = NonDim_phi(z,m,omega) \n",
    "#calculate the acceleration\n",
    "#g = -np.gradient(phi,dz)\n",
    "def g(z):\n",
    "    return -4* f_**2 * z\n",
    "\n",
    "#Set initial distribution on grid\n",
    "b = -L/4 #center at zero\n",
    "std = 1 #standard deviation of 1\n",
    "z_0 = np.random.normal(b,std,Num_stars) #initial positions sampled from normal distribution\n",
    "stars = [NB.star(i,m,z_0[i],0) for i in range(len(z_0))] #create list of normally distributed stars, zero initial speed\n",
    "\n",
    "folder_name = \"HO_NBody_Images\"\n",
    "os.chdir(Directory + \"/\" + folder_name)\n",
    "\n",
    "dtau = 0.1\n",
    "t_stop = 20\n",
    "time = 0\n",
    "i = 0 #counter, for saving images\n",
    "while time <= t_stop:\n",
    "    fig,ax = plt.subplots(1,3)\n",
    "    fig.set_size_inches(30,10)\n",
    "    plt.suptitle(f\"Time {round(dtau*i,1)}\")\n",
    "    \n",
    "    ax[0].plot(z,phi,label = \"Potential\")\n",
    "\n",
    "    x_s = np.array([])\n",
    "    v_s = np.array([])\n",
    "\n",
    "    for my_star in stars:\n",
    "        #1. PLOT FIRST\n",
    "        x = my_star.x\n",
    "        v = my_star.v\n",
    "        x_s = np.append(x_s,x)\n",
    "        v_s = np.append(v_s,v)\n",
    "\n",
    "        ax[0].plot(x,0,\".\")\n",
    "        ax[0].set_xlim([-L/2,L/2])\n",
    "        #ax[0].set_ylim([np.min(positions),np.max(positions)])\n",
    "        ax[0].legend()\n",
    "\n",
    "        ax[1].plot(x,v,\".\")\n",
    "        ax[1].set_xlim([-L/2,L/2])\n",
    "        ax[1].set_ylim([-4,4])\n",
    "        #ax[1].legend()\n",
    "\n",
    "        #2. THEN EVOLVE SYSTEM\n",
    "        my_star.evolve_star_dynamics(g,dtau)\n",
    "\n",
    "    heat = ax[2].hist2d(x_s,v_s,bins = [100,100],range = [[-L/2,L/2],[-2,2]],cmap = cm.hot)\n",
    "    #ax[2].set_colorbar()\n",
    "    ax[2].set_xlim(-L/2,L/2)\n",
    "    ax[2].set_ylim(-2,2)\n",
    "    #plt.colorbar(heat, ax[2])\n",
    "\n",
    "    #now save it as a .jpg file:\n",
    "    folder = Directory + \"/\" + folder_name\n",
    "    filename = 'ToyModelPlot' + str(i+1).zfill(4) + '.jpg';\n",
    "    plt.savefig(folder + \"/\" + filename)  #save this figure (includes both subplots)\n",
    "    \n",
    "    plt.close() #close plot so it doesn't overlap with the next one\n",
    "    \n",
    "    time += dtau\n",
    "    i += 1"
   ]
  },
  {
   "cell_type": "code",
   "execution_count": 5,
   "metadata": {},
   "outputs": [],
   "source": [
    "folder_name = \"HO_NBody_Images\"\n",
    "fourcc = cv2.VideoWriter_fourcc(*'mp4v')\n",
    "video_name = \"HO_NBody_video.mp4\"\n",
    "GF.animate(fourcc,Directory,folder_name,video_name,dtau)\n"
   ]
  },
  {
   "cell_type": "code",
   "execution_count": 6,
   "metadata": {},
   "outputs": [],
   "source": [
    "\n",
    "! xdg-open \"HO_NBody_video.mp4\""
   ]
  },
  {
   "cell_type": "code",
   "execution_count": null,
   "metadata": {},
   "outputs": [],
   "source": []
  }
 ],
 "metadata": {
  "interpreter": {
   "hash": "916dbcbb3f70747c44a77c7bcd40155683ae19c65e1c03b4aa3499c5328201f1"
  },
  "kernelspec": {
   "display_name": "Python 3.10.4 64-bit",
   "language": "python",
   "name": "python3"
  },
  "language_info": {
   "codemirror_mode": {
    "name": "ipython",
    "version": 3
   },
   "file_extension": ".py",
   "mimetype": "text/x-python",
   "name": "python",
   "nbconvert_exporter": "python",
   "pygments_lexer": "ipython3",
   "version": "3.10.4"
  },
  "orig_nbformat": 4
 },
 "nbformat": 4,
 "nbformat_minor": 2
}
